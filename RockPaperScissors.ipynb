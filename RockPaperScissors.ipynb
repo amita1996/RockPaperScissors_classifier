{
 "cells": [
  {
   "cell_type": "code",
   "execution_count": 1,
   "metadata": {},
   "outputs": [],
   "source": [
    "from PIL import Image\n",
    "import torch\n",
    "import torch.nn as nn\n",
    "import torchvision\n",
    "import os\n",
    "import numpy as np\n",
    "import matplotlib.pyplot as plt\n",
    "%matplotlib inline\n",
    "from torchvision import transforms\n",
    "from torch.utils.data import Dataset, DataLoader\n",
    "import pandas as pd\n",
    "import time\n",
    "# from torch.utils.tensorboard import SummaryWriter"
   ]
  },
  {
   "cell_type": "markdown",
   "metadata": {},
   "source": [
    "Creating a dataframe with image url and label"
   ]
  },
  {
   "cell_type": "code",
   "execution_count": 2,
   "metadata": {},
   "outputs": [],
   "source": [
    "def files_to_df(url,label):\n",
    "    os.chdir(url)\n",
    "    images_names = os.listdir()\n",
    "    return pd.DataFrame(images_names,np.ones(len(images_names)) * label)"
   ]
  },
  {
   "cell_type": "code",
   "execution_count": 3,
   "metadata": {},
   "outputs": [],
   "source": [
    "root_directory = os.getcwd()"
   ]
  },
  {
   "cell_type": "code",
   "execution_count": 4,
   "metadata": {},
   "outputs": [],
   "source": [
    "paper_url = root_directory + '\\\\paper'\n",
    "rock_url = root_directory + '\\\\rock'\n",
    "scissors_url = root_directory + '\\\\scissors'"
   ]
  },
  {
   "cell_type": "code",
   "execution_count": 5,
   "metadata": {},
   "outputs": [],
   "source": [
    "df_paper = files_to_df(paper_url,0)\n",
    "df_rock = files_to_df(rock_url,1)\n",
    "df_scissors = files_to_df(scissors_url,2)\n",
    "df = pd.concat([df_paper,df_rock,df_scissors])"
   ]
  },
  {
   "cell_type": "code",
   "execution_count": 6,
   "metadata": {},
   "outputs": [
    {
     "data": {
      "text/html": [
       "<div>\n",
       "<style scoped>\n",
       "    .dataframe tbody tr th:only-of-type {\n",
       "        vertical-align: middle;\n",
       "    }\n",
       "\n",
       "    .dataframe tbody tr th {\n",
       "        vertical-align: top;\n",
       "    }\n",
       "\n",
       "    .dataframe thead th {\n",
       "        text-align: right;\n",
       "    }\n",
       "</style>\n",
       "<table border=\"1\" class=\"dataframe\">\n",
       "  <thead>\n",
       "    <tr style=\"text-align: right;\">\n",
       "      <th></th>\n",
       "      <th>images</th>\n",
       "      <th>labels</th>\n",
       "    </tr>\n",
       "  </thead>\n",
       "  <tbody>\n",
       "    <tr>\n",
       "      <th>0.0</th>\n",
       "      <td>04l5I8TqdzF9WDMJ.png</td>\n",
       "      <td>0</td>\n",
       "    </tr>\n",
       "    <tr>\n",
       "      <th>0.0</th>\n",
       "      <td>0a3UtNzl5Ll3sq8K.png</td>\n",
       "      <td>0</td>\n",
       "    </tr>\n",
       "    <tr>\n",
       "      <th>0.0</th>\n",
       "      <td>0cb6cVL8pkfi4wF6.png</td>\n",
       "      <td>0</td>\n",
       "    </tr>\n",
       "    <tr>\n",
       "      <th>0.0</th>\n",
       "      <td>0eqArS2GgsBeqgSn.png</td>\n",
       "      <td>0</td>\n",
       "    </tr>\n",
       "    <tr>\n",
       "      <th>0.0</th>\n",
       "      <td>0Og76sl5CJhbxWWx.png</td>\n",
       "      <td>0</td>\n",
       "    </tr>\n",
       "    <tr>\n",
       "      <th>...</th>\n",
       "      <td>...</td>\n",
       "      <td>...</td>\n",
       "    </tr>\n",
       "    <tr>\n",
       "      <th>2.0</th>\n",
       "      <td>zV0yCNG0C9s4GId3.png</td>\n",
       "      <td>2</td>\n",
       "    </tr>\n",
       "    <tr>\n",
       "      <th>2.0</th>\n",
       "      <td>zyml8p6mHzWWJTyw.png</td>\n",
       "      <td>2</td>\n",
       "    </tr>\n",
       "    <tr>\n",
       "      <th>2.0</th>\n",
       "      <td>ZyZeKfG5s1J9Qn64.png</td>\n",
       "      <td>2</td>\n",
       "    </tr>\n",
       "    <tr>\n",
       "      <th>2.0</th>\n",
       "      <td>Zz1djgkAdRqsHM3z.png</td>\n",
       "      <td>2</td>\n",
       "    </tr>\n",
       "    <tr>\n",
       "      <th>2.0</th>\n",
       "      <td>ZzIlyDP6opy9ifkB.png</td>\n",
       "      <td>2</td>\n",
       "    </tr>\n",
       "  </tbody>\n",
       "</table>\n",
       "<p>2188 rows × 2 columns</p>\n",
       "</div>"
      ],
      "text/plain": [
       "                   images  labels\n",
       "0.0  04l5I8TqdzF9WDMJ.png       0\n",
       "0.0  0a3UtNzl5Ll3sq8K.png       0\n",
       "0.0  0cb6cVL8pkfi4wF6.png       0\n",
       "0.0  0eqArS2GgsBeqgSn.png       0\n",
       "0.0  0Og76sl5CJhbxWWx.png       0\n",
       "..                    ...     ...\n",
       "2.0  zV0yCNG0C9s4GId3.png       2\n",
       "2.0  zyml8p6mHzWWJTyw.png       2\n",
       "2.0  ZyZeKfG5s1J9Qn64.png       2\n",
       "2.0  Zz1djgkAdRqsHM3z.png       2\n",
       "2.0  ZzIlyDP6opy9ifkB.png       2\n",
       "\n",
       "[2188 rows x 2 columns]"
      ]
     },
     "execution_count": 6,
     "metadata": {},
     "output_type": "execute_result"
    }
   ],
   "source": [
    "df['labels'] = df.index\n",
    "df['labels'] = df['labels'].astype(int)\n",
    "df.columns = ['images' , 'labels']\n",
    "df"
   ]
  },
  {
   "cell_type": "markdown",
   "metadata": {},
   "source": [
    "Importing the data"
   ]
  },
  {
   "cell_type": "code",
   "execution_count": 7,
   "metadata": {},
   "outputs": [],
   "source": [
    "class RockPaperScissors(Dataset):\n",
    "    def __init__(self,directory,df,transform = None):\n",
    "        self.transform = transform\n",
    "        self.df = df\n",
    "        self.directory = directory\n",
    "    \n",
    "    def __len__(self):\n",
    "        return len(self.df)\n",
    "    \n",
    "    def __getitem__(self,index):\n",
    "        img_url = os.path.join(self.directory , 'everything' ,self.df.iloc[index,0])\n",
    "        img = np.asarray(Image.open(img_url))\n",
    "        label = torch.tensor(int(self.df.iloc[index,1]))\n",
    "        \n",
    "        if self.transform:\n",
    "            img = self.transform(img)\n",
    "        return img , label\n",
    "        "
   ]
  },
  {
   "cell_type": "code",
   "execution_count": 8,
   "metadata": {},
   "outputs": [],
   "source": [
    "dataset = RockPaperScissors(root_directory,df,transform = transforms.ToTensor())"
   ]
  },
  {
   "cell_type": "code",
   "execution_count": 9,
   "metadata": {},
   "outputs": [],
   "source": [
    "device = 'cuda' if torch.cuda.is_available() else 'cpu'"
   ]
  },
  {
   "cell_type": "code",
   "execution_count": 10,
   "metadata": {},
   "outputs": [],
   "source": [
    "loader = DataLoader(dataset = dataset , batch_size = 8 , shuffle=True)"
   ]
  },
  {
   "cell_type": "code",
   "execution_count": 11,
   "metadata": {},
   "outputs": [],
   "source": [
    "def get_mean_std(loader):\n",
    "    channels_sum , channels_squared_sum , num_batches = 0,0,0\n",
    "    for data,_ in loader:\n",
    "        channels_sum += torch.mean(data,dim=[0,2,3])\n",
    "        channels_squared_sum += torch.mean(data**2,dim = [0,2,3])\n",
    "        num_batches += 1\n",
    "    mean = channels_sum/num_batches\n",
    "    std = (channels_squared_sum/num_batches - mean **2)**0.5\n",
    "    return mean , std"
   ]
  },
  {
   "cell_type": "code",
   "execution_count": 12,
   "metadata": {},
   "outputs": [
    {
     "name": "stderr",
     "output_type": "stream",
     "text": [
      "C:\\Users\\amita\\anaconda3\\lib\\site-packages\\torchvision\\transforms\\functional.py:74: UserWarning: The given NumPy array is not writeable, and PyTorch does not support non-writeable tensors. This means you can write to the underlying (supposedly non-writeable) NumPy array using the tensor. You may want to copy the array to protect its data or make it writeable before converting it to a tensor. This type of warning will be suppressed for the rest of this program. (Triggered internally at  ..\\torch\\csrc\\utils\\tensor_numpy.cpp:141.)\n",
      "  img = torch.from_numpy(pic.transpose((2, 0, 1))).contiguous()\n"
     ]
    },
    {
     "name": "stdout",
     "output_type": "stream",
     "text": [
      "mean = tensor([0.3229, 0.5491, 0.2600])\n",
      "std = tensor([0.2554, 0.1014, 0.1328])\n"
     ]
    }
   ],
   "source": [
    "mean , std = get_mean_std(loader)\n",
    "print(f'mean = {mean}')\n",
    "print (f'std = {std}')"
   ]
  },
  {
   "cell_type": "code",
   "execution_count": 13,
   "metadata": {},
   "outputs": [],
   "source": [
    "transform = transforms.Compose([\n",
    "    transforms.ToPILImage(),\n",
    "    transforms.ToTensor(),\n",
    "    transforms.Normalize(mean, std)\n",
    "])\n",
    "dataset = RockPaperScissors(root_directory,df,transform = transforms.ToTensor())\n",
    "\n",
    "train_split , val_split ,test_split = torch.utils.data.random_split(dataset,[1458,330,400])\n",
    "\n",
    "train_loader = DataLoader(dataset = train_split , batch_size = 8 , shuffle=True)\n",
    "val_loader = DataLoader(dataset = val_split , batch_size = 8 , shuffle=True)\n",
    "test_loader = DataLoader(dataset = test_split , batch_size = 8 , shuffle=True)"
   ]
  },
  {
   "cell_type": "code",
   "execution_count": 14,
   "metadata": {},
   "outputs": [],
   "source": [
    "criterion = nn.CrossEntropyLoss()"
   ]
  },
  {
   "cell_type": "markdown",
   "metadata": {},
   "source": [
    "Training"
   ]
  },
  {
   "cell_type": "code",
   "execution_count": 15,
   "metadata": {},
   "outputs": [],
   "source": [
    "def calc_acc(model,loader,lr,epoch,mode):\n",
    "    correct = 0\n",
    "    total = 0\n",
    "    with torch.no_grad():\n",
    "        model.eval()\n",
    "        for x,y in loader:\n",
    "                x , y = x.to(device) , y.to(device)\n",
    "                y_hat = model(x)\n",
    "                _ , pred = y_hat.max(1)\n",
    "                correct += (pred == y).sum()\n",
    "                total += pred.shape[0]\n",
    "        print(f'{mode} score with learning rate {lr} , epoch {epoch + 1} = {correct/total}')\n",
    "        model.train()\n",
    "        return correct/total"
   ]
  },
  {
   "cell_type": "code",
   "execution_count": 16,
   "metadata": {},
   "outputs": [
    {
     "name": "stdout",
     "output_type": "stream",
     "text": [
      "training score with learning rate 0.001 , epoch 1 = 0.9691358208656311\n",
      "val score with learning rate 0.001 , epoch 1 = 0.9666666388511658\n",
      "training score with learning rate 0.001 , epoch 2 = 0.9677640795707703\n",
      "val score with learning rate 0.001 , epoch 2 = 0.9545454382896423\n",
      "training score with learning rate 0.001 , epoch 3 = 0.9821673631668091\n",
      "val score with learning rate 0.001 , epoch 3 = 0.9848484396934509\n",
      "training score with learning rate 0.001 , epoch 4 = 0.9849108457565308\n",
      "val score with learning rate 0.001 , epoch 4 = 0.9878787398338318\n",
      "training score with learning rate 0.001 , epoch 5 = 0.9780521392822266\n",
      "val score with learning rate 0.001 , epoch 5 = 0.9818181395530701\n",
      "training score with learning rate 0.001 , epoch 6 = 0.9883401989936829\n",
      "val score with learning rate 0.001 , epoch 6 = 0.9848484396934509\n",
      "training score with learning rate 0.001 , epoch 7 = 0.991769552230835\n",
      "val score with learning rate 0.001 , epoch 7 = 0.9909090399742126\n",
      "training score with learning rate 0.001 , epoch 8 = 0.9773662686347961\n",
      "val score with learning rate 0.001 , epoch 8 = 0.9666666388511658\n",
      "training score with learning rate 0.001 , epoch 9 = 0.9945130348205566\n",
      "val score with learning rate 0.001 , epoch 9 = 0.9909090399742126\n",
      "training score with learning rate 0.001 , epoch 10 = 0.9924554228782654\n",
      "val score with learning rate 0.001 , epoch 10 = 0.9909090399742126\n",
      "training score with learning rate 0.001 , epoch 11 = 0.9910836815834045\n",
      "val score with learning rate 0.001 , epoch 11 = 0.9909090399742126\n",
      "training score with learning rate 0.001 , epoch 12 = 0.9951989054679871\n",
      "val score with learning rate 0.001 , epoch 12 = 0.9909090399742126\n",
      "training score with learning rate 0.001 , epoch 13 = 0.9924554228782654\n",
      "val score with learning rate 0.001 , epoch 13 = 0.9878787398338318\n",
      "training score with learning rate 0.001 , epoch 14 = 0.9951989054679871\n",
      "val score with learning rate 0.001 , epoch 14 = 0.9939393401145935\n",
      "training score with learning rate 0.001 , epoch 15 = 0.9979423880577087\n",
      "val score with learning rate 0.001 , epoch 15 = 0.9909090399742126\n",
      "training score with learning rate 0.001 , epoch 16 = 0.9883401989936829\n",
      "val score with learning rate 0.001 , epoch 16 = 0.9696969389915466\n",
      "training score with learning rate 0.001 , epoch 17 = 0.9958847761154175\n",
      "val score with learning rate 0.001 , epoch 17 = 0.9909090399742126\n",
      "training score with learning rate 0.001 , epoch 18 = 0.9965706467628479\n",
      "val score with learning rate 0.001 , epoch 18 = 0.9909090399742126\n",
      "training score with learning rate 0.001 , epoch 19 = 0.9951989054679871\n",
      "val score with learning rate 0.001 , epoch 19 = 0.9909090399742126\n",
      "training score with learning rate 0.001 , epoch 20 = 0.9972565174102783\n",
      "val score with learning rate 0.001 , epoch 20 = 0.9939393401145935\n"
     ]
    }
   ],
   "source": [
    "os.chdir(root_directory)\n",
    "start = time.perf_counter()\n",
    "num_epochs = 20\n",
    "lr = 1e-3\n",
    "train_acc = []\n",
    "val_acc = []\n",
    "\n",
    "#Model\n",
    "model = torchvision.models.resnet18(pretrained=True)\n",
    "for param in model.parameters():\n",
    "    param.requires_grad = False\n",
    "model.fc = nn.Linear(in_features = 512 , out_features = 3)\n",
    "model = model.to(device)\n",
    "model.train()\n",
    "\n",
    "#Optimizer\n",
    "optimizer = torch.optim.Adam(model.fc.parameters(),lr = lr)\n",
    "\n",
    "for epoch in range(num_epochs):\n",
    "    for i, (x,y) in enumerate(train_loader):\n",
    "        #Training the model\n",
    "        x,y = x.to(device) , y.to(device)\n",
    "        y_hat = model(x)\n",
    "        loss = criterion(y_hat,y)\n",
    "        optimizer.zero_grad()\n",
    "        loss.backward()\n",
    "        optimizer.step()\n",
    "\n",
    "        #Training Accuracy\n",
    "        _ , pred = y_hat.max(1)\n",
    "        num_correct = (pred == y).sum()\n",
    "        running_train_acc = float(num_correct)/float(x.shape[0])\n",
    "\n",
    "    #Train Accuracy per epoch\n",
    "    train_score = calc_acc(model,train_loader,lr,epoch , mode = 'training')\n",
    "    train_acc.append(train_score)\n",
    "    \n",
    "    #Val Accuracy per epoch\n",
    "    val_score = calc_acc(model,val_loader,lr,epoch,mode='val')\n",
    "    val_acc.append(val_score)\n",
    "    \n",
    "\n",
    "    \n",
    "end = time.perf_counter()"
   ]
  },
  {
   "cell_type": "code",
   "execution_count": 17,
   "metadata": {},
   "outputs": [
    {
     "name": "stdout",
     "output_type": "stream",
     "text": [
      "Training time = 3193.3775843000003\n"
     ]
    }
   ],
   "source": [
    "print(f'Training time = {end-start}')"
   ]
  },
  {
   "cell_type": "code",
   "execution_count": 18,
   "metadata": {},
   "outputs": [
    {
     "data": {
      "text/plain": [
       "Text(0, 0.5, 'Accuracy')"
      ]
     },
     "execution_count": 18,
     "metadata": {},
     "output_type": "execute_result"
    },
    {
     "data": {
      "image/png": "[encoded data removed]",
      "text/plain": [
       "<Figure size 432x288 with 1 Axes>"
      ]
     },
     "metadata": {
      "needs_background": "light"
     },
     "output_type": "display_data"
    }
   ],
   "source": [
    "plt.plot(train_acc,label = 'Training')\n",
    "plt.plot(val_acc, label = 'Val')\n",
    "plt.legend()\n",
    "plt.xlabel('Num epochs')\n",
    "plt.ylabel('Accuracy')"
   ]
  },
  {
   "cell_type": "markdown",
   "metadata": {},
   "source": [
    "Testing"
   ]
  },
  {
   "cell_type": "code",
   "execution_count": 19,
   "metadata": {},
   "outputs": [
    {
     "name": "stdout",
     "output_type": "stream",
     "text": [
      "model score = 0.9975000023841858\n"
     ]
    }
   ],
   "source": [
    "correct = 0\n",
    "total = 0\n",
    "with torch.no_grad():\n",
    "    model.eval()\n",
    "    for x,y in test_loader:\n",
    "            x , y = x.to(device) , y.to(device)\n",
    "            y_hat = model(x)\n",
    "            _ , pred = y_hat.max(1)\n",
    "            correct += (pred == y).sum()\n",
    "            total += pred.shape[0]\n",
    "    print(f'model score = {correct/total}')\n",
    "    model.train()"
   ]
  },
  {
   "cell_type": "code",
   "execution_count": null,
   "metadata": {},
   "outputs": [],
   "source": []
  }
 ],
 "metadata": {
  "kernelspec": {
   "display_name": "Python 3",
   "language": "python",
   "name": "python3"
  },
  "language_info": {
   "codemirror_mode": {
    "name": "ipython",
    "version": 3
   },
   "file_extension": ".py",
   "mimetype": "text/x-python",
   "name": "python",
   "nbconvert_exporter": "python",
   "pygments_lexer": "ipython3",
   "version": "3.8.5"
  }
 },
 "nbformat": 4,
 "nbformat_minor": 4
}
