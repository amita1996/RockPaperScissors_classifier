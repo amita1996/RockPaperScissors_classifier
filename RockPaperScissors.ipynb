{
 "cells": [
  {
   "cell_type": "code",
   "execution_count": 1,
   "metadata": {},
   "outputs": [],
   "source": [
    "from PIL import Image\n",
    "import torch\n",
    "import torch.nn as nn\n",
    "import torchvision\n",
    "import os\n",
    "import numpy as np\n",
    "import matplotlib.pyplot as plt\n",
    "%matplotlib inline\n",
    "from torchvision import transforms\n",
    "from torch.utils.data import Dataset, DataLoader\n",
    "import pandas as pd\n",
    "import time\n",
    "from torch.utils.tensorboard import SummaryWriter"
   ]
  },
  {
   "cell_type": "markdown",
   "metadata": {},
   "source": [
    "Creating a dataframe with image url and label"
   ]
  },
  {
   "cell_type": "code",
   "execution_count": 2,
   "metadata": {},
   "outputs": [],
   "source": [
    "root_directory = os.getcwd()"
   ]
  },
  {
   "cell_type": "code",
   "execution_count": 3,
   "metadata": {},
   "outputs": [],
   "source": [
    "paper_url = root_directory + '\\\\paper'\n",
    "rock_url = root_directory + '\\\\rock'\n",
    "scissors_url = root_directory + '\\\\scissors'"
   ]
  },
  {
   "cell_type": "code",
   "execution_count": 4,
   "metadata": {},
   "outputs": [],
   "source": [
    "os.chdir(paper_url)"
   ]
  },
  {
   "cell_type": "code",
   "execution_count": 5,
   "metadata": {},
   "outputs": [],
   "source": [
    "value_dict = {0:'paper',1:'rock',2:'scissors'}"
   ]
  },
  {
   "cell_type": "code",
   "execution_count": 6,
   "metadata": {},
   "outputs": [],
   "source": [
    "paper_images_names = os.listdir()"
   ]
  },
  {
   "cell_type": "code",
   "execution_count": 7,
   "metadata": {},
   "outputs": [],
   "source": [
    "df = pd.DataFrame(paper_images_names, np.zeros((len(paper_images_names))))"
   ]
  },
  {
   "cell_type": "code",
   "execution_count": 8,
   "metadata": {},
   "outputs": [],
   "source": [
    "os.chdir(rock_url)\n",
    "rock_images_names = os.listdir()\n",
    "df = df.append(pd.DataFrame(rock_images_names , np.ones((len(rock_images_names)))))"
   ]
  },
  {
   "cell_type": "code",
   "execution_count": 9,
   "metadata": {},
   "outputs": [],
   "source": [
    "os.chdir(scissors_url)\n",
    "scissors_images_names = os.listdir()\n",
    "df = df.append(pd.DataFrame(scissors_images_names , np.ones((len(scissors_images_names))) * 2))"
   ]
  },
  {
   "cell_type": "code",
   "execution_count": 10,
   "metadata": {},
   "outputs": [],
   "source": [
    "df['labels'] = df.index"
   ]
  },
  {
   "cell_type": "code",
   "execution_count": 11,
   "metadata": {},
   "outputs": [],
   "source": [
    "df['labels'] = df['labels'].astype(int)"
   ]
  },
  {
   "cell_type": "code",
   "execution_count": 12,
   "metadata": {},
   "outputs": [],
   "source": [
    "df.columns = ['images' , 'labels']"
   ]
  },
  {
   "cell_type": "markdown",
   "metadata": {},
   "source": [
    "Importing the data"
   ]
  },
  {
   "cell_type": "code",
   "execution_count": 13,
   "metadata": {},
   "outputs": [],
   "source": [
    "class RockPaperScissors(Dataset):\n",
    "    def __init__(self,directory,df,transform = None):\n",
    "        self.transform = transform\n",
    "        self.df = df\n",
    "        self.directory = directory\n",
    "    \n",
    "    def __len__(self):\n",
    "        return len(self.df)\n",
    "    \n",
    "    def __getitem__(self,index):\n",
    "        img_url = os.path.join(self.directory , 'everything' ,self.df.iloc[index,0])\n",
    "        img = np.asarray(Image.open(img_url))\n",
    "        label = torch.tensor(int(self.df.iloc[index,1]))\n",
    "        \n",
    "        if self.transform:\n",
    "            img = self.transform(img)\n",
    "        return img.to(device) , label.to(device)\n",
    "        "
   ]
  },
  {
   "cell_type": "code",
   "execution_count": 14,
   "metadata": {},
   "outputs": [],
   "source": [
    "transform = transforms.Compose([\n",
    "    transforms.ToPILImage(),\n",
    "    transforms.ToTensor(),\n",
    "    transforms.Normalize((0.5, 0.5, 0.5), (0.5, 0.5, 0.5))\n",
    "])"
   ]
  },
  {
   "cell_type": "code",
   "execution_count": 15,
   "metadata": {},
   "outputs": [],
   "source": [
    "dataset = RockPaperScissors(root_directory,df,transform)\n",
    "\n",
    "train_split , test_split = torch.utils.data.random_split(dataset,[1458,730])"
   ]
  },
  {
   "cell_type": "code",
   "execution_count": 16,
   "metadata": {},
   "outputs": [],
   "source": [
    "device = 'cuda' if torch.cuda.is_available() else 'cpu'"
   ]
  },
  {
   "cell_type": "code",
   "execution_count": 17,
   "metadata": {},
   "outputs": [],
   "source": [
    "train_loader = DataLoader(dataset = train_split , batch_size = 8 , shuffle=True)\n",
    "test_loader = DataLoader(dataset = test_split , batch_size = 8 , shuffle=True)"
   ]
  },
  {
   "cell_type": "markdown",
   "metadata": {},
   "source": [
    "Using mobilenet pretrained model"
   ]
  },
  {
   "cell_type": "code",
   "execution_count": 18,
   "metadata": {},
   "outputs": [],
   "source": [
    "# lr = 1e-3\n",
    "criterion = nn.CrossEntropyLoss()\n",
    "# optimizer = torch.optim.Adam(model.classifier[1].parameters(),lr=lr)"
   ]
  },
  {
   "cell_type": "markdown",
   "metadata": {},
   "source": [
    "Training"
   ]
  },
  {
   "cell_type": "code",
   "execution_count": 19,
   "metadata": {},
   "outputs": [],
   "source": [
    "learning_rates = [0.01]\n",
    "os.chdir(root_directory)\n",
    "start = time.perf_counter()\n",
    "num_epochs = 30\n",
    "\n",
    "for lr in learning_rates:\n",
    "    step = 0\n",
    "    model = torchvision.models.mobilenet_v2(pretrained=True)\n",
    "    for param in model.parameters():\n",
    "        param.requires_grad = False\n",
    "    model.classifier[1] = nn.Linear(in_features=1280 , out_features = 3 , bias=True)\n",
    "    model = model.to(device)\n",
    "    model.train()\n",
    "    optimizer = torch.optim.Adam(model.classifier[1].parameters(),lr = lr)\n",
    "\n",
    "    writer = SummaryWriter(f'runs/Testing/Learning rate = {lr}')\n",
    "    for epoch in range(num_epochs):\n",
    "        for i, (x,y) in enumerate(train_loader):\n",
    "            #Training the model\n",
    "            x,y = x.to(device) , y.to(device)\n",
    "            y_hat = model(x)\n",
    "            loss = criterion(y_hat,y)\n",
    "            optimizer.zero_grad()\n",
    "            loss.backward()\n",
    "            optimizer.step()\n",
    "\n",
    "            #Training Accuracy\n",
    "            _ , pred = y_hat.max(1)\n",
    "            num_correct = (pred == y).sum()\n",
    "            running_train_acc = float(num_correct)/float(x.shape[0])\n",
    "\n",
    "            #TensorBoard\n",
    "            writer.add_scalar('Training Loss', loss, global_step = step)\n",
    "            writer.add_scalar('Training Accuracy' , running_train_acc , global_step = step)\n",
    "            step += 1\n",
    "end = time.perf_counter()"
   ]
  },
  {
   "cell_type": "code",
   "execution_count": 20,
   "metadata": {},
   "outputs": [
    {
     "name": "stdout",
     "output_type": "stream",
     "text": [
      "Training time = 1560.6419165\n"
     ]
    }
   ],
   "source": [
    "print(f'Training time = {end-start}')"
   ]
  },
  {
   "cell_type": "markdown",
   "metadata": {},
   "source": [
    "Testing"
   ]
  },
  {
   "cell_type": "code",
   "execution_count": 21,
   "metadata": {},
   "outputs": [
    {
     "name": "stdout",
     "output_type": "stream",
     "text": [
      "model score = 0.9945205450057983\n"
     ]
    }
   ],
   "source": [
    "correct = 0\n",
    "total = 0\n",
    "with torch.no_grad():\n",
    "    model.eval()\n",
    "    for x,y in test_loader:\n",
    "            x , y = x.to(device) , y.to(device)\n",
    "            y_hat = model(x)\n",
    "            _ , pred = y_hat.max(1)\n",
    "            correct += (pred == y).sum()\n",
    "            total += pred.shape[0]\n",
    "    print(f'model score = {correct/total}')\n",
    "    model.train()"
   ]
  },
  {
   "cell_type": "code",
   "execution_count": null,
   "metadata": {},
   "outputs": [],
   "source": []
  }
 ],
 "metadata": {
  "kernelspec": {
   "display_name": "Python 3",
   "language": "python",
   "name": "python3"
  },
  "language_info": {
   "codemirror_mode": {
    "name": "ipython",
    "version": 3
   },
   "file_extension": ".py",
   "mimetype": "text/x-python",
   "name": "python",
   "nbconvert_exporter": "python",
   "pygments_lexer": "ipython3",
   "version": "3.8.5"
  }
 },
 "nbformat": 4,
 "nbformat_minor": 4
}
